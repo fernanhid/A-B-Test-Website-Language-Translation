{
 "cells": [
  {
   "cell_type": "code",
   "execution_count": 1,
   "metadata": {
    "collapsed": true
   },
   "outputs": [],
   "source": [
    "import pandas as pd\n",
    "import numpy as np\n",
    "import matplotlib.pyplot as plt\n",
    "import seaborn as sns\n",
    "\n",
    "%matplotlib inline"
   ]
  },
  {
   "cell_type": "code",
   "execution_count": 2,
   "metadata": {
    "collapsed": false
   },
   "outputs": [],
   "source": [
    "# User Data\n",
    "user = pd.read_csv('user_table.csv')\n",
    "# Online Data\n",
    "test = pd.read_csv('test_table.csv', parse_dates= ['date'])"
   ]
  },
  {
   "cell_type": "markdown",
   "metadata": {},
   "source": [
    "# Data Exploration"
   ]
  },
  {
   "cell_type": "code",
   "execution_count": 3,
   "metadata": {
    "collapsed": false
   },
   "outputs": [
    {
     "data": {
      "text/html": [
       "<div>\n",
       "<table border=\"1\" class=\"dataframe\">\n",
       "  <thead>\n",
       "    <tr style=\"text-align: right;\">\n",
       "      <th></th>\n",
       "      <th>user_id</th>\n",
       "      <th>date</th>\n",
       "      <th>source</th>\n",
       "      <th>device</th>\n",
       "      <th>browser_language</th>\n",
       "      <th>ads_channel</th>\n",
       "      <th>browser</th>\n",
       "      <th>conversion</th>\n",
       "      <th>test</th>\n",
       "    </tr>\n",
       "  </thead>\n",
       "  <tbody>\n",
       "    <tr>\n",
       "      <th>0</th>\n",
       "      <td>315281</td>\n",
       "      <td>2015-12-03</td>\n",
       "      <td>Direct</td>\n",
       "      <td>Web</td>\n",
       "      <td>ES</td>\n",
       "      <td>NaN</td>\n",
       "      <td>IE</td>\n",
       "      <td>1</td>\n",
       "      <td>0</td>\n",
       "    </tr>\n",
       "    <tr>\n",
       "      <th>1</th>\n",
       "      <td>497851</td>\n",
       "      <td>2015-12-04</td>\n",
       "      <td>Ads</td>\n",
       "      <td>Web</td>\n",
       "      <td>ES</td>\n",
       "      <td>Google</td>\n",
       "      <td>IE</td>\n",
       "      <td>0</td>\n",
       "      <td>1</td>\n",
       "    </tr>\n",
       "    <tr>\n",
       "      <th>2</th>\n",
       "      <td>848402</td>\n",
       "      <td>2015-12-04</td>\n",
       "      <td>Ads</td>\n",
       "      <td>Web</td>\n",
       "      <td>ES</td>\n",
       "      <td>Facebook</td>\n",
       "      <td>Chrome</td>\n",
       "      <td>0</td>\n",
       "      <td>0</td>\n",
       "    </tr>\n",
       "    <tr>\n",
       "      <th>3</th>\n",
       "      <td>290051</td>\n",
       "      <td>2015-12-03</td>\n",
       "      <td>Ads</td>\n",
       "      <td>Mobile</td>\n",
       "      <td>Other</td>\n",
       "      <td>Facebook</td>\n",
       "      <td>Android_App</td>\n",
       "      <td>0</td>\n",
       "      <td>1</td>\n",
       "    </tr>\n",
       "    <tr>\n",
       "      <th>4</th>\n",
       "      <td>548435</td>\n",
       "      <td>2015-11-30</td>\n",
       "      <td>Ads</td>\n",
       "      <td>Web</td>\n",
       "      <td>ES</td>\n",
       "      <td>Google</td>\n",
       "      <td>FireFox</td>\n",
       "      <td>0</td>\n",
       "      <td>1</td>\n",
       "    </tr>\n",
       "  </tbody>\n",
       "</table>\n",
       "</div>"
      ],
      "text/plain": [
       "   user_id       date  source  device browser_language ads_channel  \\\n",
       "0   315281 2015-12-03  Direct     Web               ES         NaN   \n",
       "1   497851 2015-12-04     Ads     Web               ES      Google   \n",
       "2   848402 2015-12-04     Ads     Web               ES    Facebook   \n",
       "3   290051 2015-12-03     Ads  Mobile            Other    Facebook   \n",
       "4   548435 2015-11-30     Ads     Web               ES      Google   \n",
       "\n",
       "       browser  conversion  test  \n",
       "0           IE           1     0  \n",
       "1           IE           0     1  \n",
       "2       Chrome           0     0  \n",
       "3  Android_App           0     1  \n",
       "4      FireFox           0     1  "
      ]
     },
     "execution_count": 3,
     "metadata": {},
     "output_type": "execute_result"
    }
   ],
   "source": [
    "test.head()"
   ]
  },
  {
   "cell_type": "code",
   "execution_count": 4,
   "metadata": {
    "collapsed": false
   },
   "outputs": [
    {
     "data": {
      "text/html": [
       "<div>\n",
       "<table border=\"1\" class=\"dataframe\">\n",
       "  <thead>\n",
       "    <tr style=\"text-align: right;\">\n",
       "      <th></th>\n",
       "      <th>user_id</th>\n",
       "      <th>sex</th>\n",
       "      <th>age</th>\n",
       "      <th>country</th>\n",
       "    </tr>\n",
       "  </thead>\n",
       "  <tbody>\n",
       "    <tr>\n",
       "      <th>0</th>\n",
       "      <td>765821</td>\n",
       "      <td>M</td>\n",
       "      <td>20</td>\n",
       "      <td>Mexico</td>\n",
       "    </tr>\n",
       "    <tr>\n",
       "      <th>1</th>\n",
       "      <td>343561</td>\n",
       "      <td>F</td>\n",
       "      <td>27</td>\n",
       "      <td>Nicaragua</td>\n",
       "    </tr>\n",
       "    <tr>\n",
       "      <th>2</th>\n",
       "      <td>118744</td>\n",
       "      <td>M</td>\n",
       "      <td>23</td>\n",
       "      <td>Colombia</td>\n",
       "    </tr>\n",
       "    <tr>\n",
       "      <th>3</th>\n",
       "      <td>987753</td>\n",
       "      <td>F</td>\n",
       "      <td>27</td>\n",
       "      <td>Venezuela</td>\n",
       "    </tr>\n",
       "    <tr>\n",
       "      <th>4</th>\n",
       "      <td>554597</td>\n",
       "      <td>F</td>\n",
       "      <td>20</td>\n",
       "      <td>Spain</td>\n",
       "    </tr>\n",
       "  </tbody>\n",
       "</table>\n",
       "</div>"
      ],
      "text/plain": [
       "   user_id sex  age    country\n",
       "0   765821   M   20     Mexico\n",
       "1   343561   F   27  Nicaragua\n",
       "2   118744   M   23   Colombia\n",
       "3   987753   F   27  Venezuela\n",
       "4   554597   F   20      Spain"
      ]
     },
     "execution_count": 4,
     "metadata": {},
     "output_type": "execute_result"
    }
   ],
   "source": [
    "user.head()"
   ]
  },
  {
   "cell_type": "code",
   "execution_count": 5,
   "metadata": {
    "collapsed": false
   },
   "outputs": [
    {
     "data": {
      "text/html": [
       "<div>\n",
       "<table border=\"1\" class=\"dataframe\">\n",
       "  <thead>\n",
       "    <tr style=\"text-align: right;\">\n",
       "      <th></th>\n",
       "      <th>user_id</th>\n",
       "      <th>sex</th>\n",
       "      <th>age</th>\n",
       "      <th>country</th>\n",
       "    </tr>\n",
       "  </thead>\n",
       "  <tbody>\n",
       "    <tr>\n",
       "      <th>count</th>\n",
       "      <td>452867.000000</td>\n",
       "      <td>452867</td>\n",
       "      <td>452867.000000</td>\n",
       "      <td>452867</td>\n",
       "    </tr>\n",
       "    <tr>\n",
       "      <th>unique</th>\n",
       "      <td>NaN</td>\n",
       "      <td>2</td>\n",
       "      <td>NaN</td>\n",
       "      <td>17</td>\n",
       "    </tr>\n",
       "    <tr>\n",
       "      <th>top</th>\n",
       "      <td>NaN</td>\n",
       "      <td>M</td>\n",
       "      <td>NaN</td>\n",
       "      <td>Mexico</td>\n",
       "    </tr>\n",
       "    <tr>\n",
       "      <th>freq</th>\n",
       "      <td>NaN</td>\n",
       "      <td>264485</td>\n",
       "      <td>NaN</td>\n",
       "      <td>128484</td>\n",
       "    </tr>\n",
       "    <tr>\n",
       "      <th>mean</th>\n",
       "      <td>499944.805166</td>\n",
       "      <td>NaN</td>\n",
       "      <td>27.130740</td>\n",
       "      <td>NaN</td>\n",
       "    </tr>\n",
       "    <tr>\n",
       "      <th>std</th>\n",
       "      <td>288676.264784</td>\n",
       "      <td>NaN</td>\n",
       "      <td>6.776678</td>\n",
       "      <td>NaN</td>\n",
       "    </tr>\n",
       "    <tr>\n",
       "      <th>min</th>\n",
       "      <td>1.000000</td>\n",
       "      <td>NaN</td>\n",
       "      <td>18.000000</td>\n",
       "      <td>NaN</td>\n",
       "    </tr>\n",
       "    <tr>\n",
       "      <th>25%</th>\n",
       "      <td>249819.000000</td>\n",
       "      <td>NaN</td>\n",
       "      <td>22.000000</td>\n",
       "      <td>NaN</td>\n",
       "    </tr>\n",
       "    <tr>\n",
       "      <th>50%</th>\n",
       "      <td>500019.000000</td>\n",
       "      <td>NaN</td>\n",
       "      <td>26.000000</td>\n",
       "      <td>NaN</td>\n",
       "    </tr>\n",
       "    <tr>\n",
       "      <th>75%</th>\n",
       "      <td>749543.000000</td>\n",
       "      <td>NaN</td>\n",
       "      <td>31.000000</td>\n",
       "      <td>NaN</td>\n",
       "    </tr>\n",
       "    <tr>\n",
       "      <th>max</th>\n",
       "      <td>1000000.000000</td>\n",
       "      <td>NaN</td>\n",
       "      <td>70.000000</td>\n",
       "      <td>NaN</td>\n",
       "    </tr>\n",
       "  </tbody>\n",
       "</table>\n",
       "</div>"
      ],
      "text/plain": [
       "               user_id     sex            age country\n",
       "count    452867.000000  452867  452867.000000  452867\n",
       "unique             NaN       2            NaN      17\n",
       "top                NaN       M            NaN  Mexico\n",
       "freq               NaN  264485            NaN  128484\n",
       "mean     499944.805166     NaN      27.130740     NaN\n",
       "std      288676.264784     NaN       6.776678     NaN\n",
       "min           1.000000     NaN      18.000000     NaN\n",
       "25%      249819.000000     NaN      22.000000     NaN\n",
       "50%      500019.000000     NaN      26.000000     NaN\n",
       "75%      749543.000000     NaN      31.000000     NaN\n",
       "max     1000000.000000     NaN      70.000000     NaN"
      ]
     },
     "execution_count": 5,
     "metadata": {},
     "output_type": "execute_result"
    }
   ],
   "source": [
    "# Top Country is Mexico\n",
    "user.describe(include = 'all')"
   ]
  },
  {
   "cell_type": "code",
   "execution_count": 6,
   "metadata": {
    "collapsed": false
   },
   "outputs": [
    {
     "data": {
      "text/html": [
       "<div>\n",
       "<table border=\"1\" class=\"dataframe\">\n",
       "  <thead>\n",
       "    <tr style=\"text-align: right;\">\n",
       "      <th></th>\n",
       "      <th>user_id</th>\n",
       "      <th>date</th>\n",
       "      <th>source</th>\n",
       "      <th>device</th>\n",
       "      <th>browser_language</th>\n",
       "      <th>ads_channel</th>\n",
       "      <th>browser</th>\n",
       "      <th>conversion</th>\n",
       "      <th>test</th>\n",
       "    </tr>\n",
       "  </thead>\n",
       "  <tbody>\n",
       "    <tr>\n",
       "      <th>count</th>\n",
       "      <td>453321.000000</td>\n",
       "      <td>453321</td>\n",
       "      <td>453321</td>\n",
       "      <td>453321</td>\n",
       "      <td>453321</td>\n",
       "      <td>181877</td>\n",
       "      <td>453321</td>\n",
       "      <td>453321.000000</td>\n",
       "      <td>453321.000000</td>\n",
       "    </tr>\n",
       "    <tr>\n",
       "      <th>unique</th>\n",
       "      <td>NaN</td>\n",
       "      <td>5</td>\n",
       "      <td>3</td>\n",
       "      <td>2</td>\n",
       "      <td>3</td>\n",
       "      <td>5</td>\n",
       "      <td>7</td>\n",
       "      <td>NaN</td>\n",
       "      <td>NaN</td>\n",
       "    </tr>\n",
       "    <tr>\n",
       "      <th>top</th>\n",
       "      <td>NaN</td>\n",
       "      <td>2015-12-04 00:00:00</td>\n",
       "      <td>Ads</td>\n",
       "      <td>Web</td>\n",
       "      <td>ES</td>\n",
       "      <td>Facebook</td>\n",
       "      <td>Android_App</td>\n",
       "      <td>NaN</td>\n",
       "      <td>NaN</td>\n",
       "    </tr>\n",
       "    <tr>\n",
       "      <th>freq</th>\n",
       "      <td>NaN</td>\n",
       "      <td>141163</td>\n",
       "      <td>181877</td>\n",
       "      <td>251565</td>\n",
       "      <td>377547</td>\n",
       "      <td>68425</td>\n",
       "      <td>155135</td>\n",
       "      <td>NaN</td>\n",
       "      <td>NaN</td>\n",
       "    </tr>\n",
       "    <tr>\n",
       "      <th>first</th>\n",
       "      <td>NaN</td>\n",
       "      <td>2015-11-30 00:00:00</td>\n",
       "      <td>NaN</td>\n",
       "      <td>NaN</td>\n",
       "      <td>NaN</td>\n",
       "      <td>NaN</td>\n",
       "      <td>NaN</td>\n",
       "      <td>NaN</td>\n",
       "      <td>NaN</td>\n",
       "    </tr>\n",
       "    <tr>\n",
       "      <th>last</th>\n",
       "      <td>NaN</td>\n",
       "      <td>2015-12-04 00:00:00</td>\n",
       "      <td>NaN</td>\n",
       "      <td>NaN</td>\n",
       "      <td>NaN</td>\n",
       "      <td>NaN</td>\n",
       "      <td>NaN</td>\n",
       "      <td>NaN</td>\n",
       "      <td>NaN</td>\n",
       "    </tr>\n",
       "    <tr>\n",
       "      <th>mean</th>\n",
       "      <td>499937.514728</td>\n",
       "      <td>NaN</td>\n",
       "      <td>NaN</td>\n",
       "      <td>NaN</td>\n",
       "      <td>NaN</td>\n",
       "      <td>NaN</td>\n",
       "      <td>NaN</td>\n",
       "      <td>0.049579</td>\n",
       "      <td>0.476446</td>\n",
       "    </tr>\n",
       "    <tr>\n",
       "      <th>std</th>\n",
       "      <td>288665.193436</td>\n",
       "      <td>NaN</td>\n",
       "      <td>NaN</td>\n",
       "      <td>NaN</td>\n",
       "      <td>NaN</td>\n",
       "      <td>NaN</td>\n",
       "      <td>NaN</td>\n",
       "      <td>0.217073</td>\n",
       "      <td>0.499445</td>\n",
       "    </tr>\n",
       "    <tr>\n",
       "      <th>min</th>\n",
       "      <td>1.000000</td>\n",
       "      <td>NaN</td>\n",
       "      <td>NaN</td>\n",
       "      <td>NaN</td>\n",
       "      <td>NaN</td>\n",
       "      <td>NaN</td>\n",
       "      <td>NaN</td>\n",
       "      <td>0.000000</td>\n",
       "      <td>0.000000</td>\n",
       "    </tr>\n",
       "    <tr>\n",
       "      <th>25%</th>\n",
       "      <td>249816.000000</td>\n",
       "      <td>NaN</td>\n",
       "      <td>NaN</td>\n",
       "      <td>NaN</td>\n",
       "      <td>NaN</td>\n",
       "      <td>NaN</td>\n",
       "      <td>NaN</td>\n",
       "      <td>0.000000</td>\n",
       "      <td>0.000000</td>\n",
       "    </tr>\n",
       "    <tr>\n",
       "      <th>50%</th>\n",
       "      <td>500019.000000</td>\n",
       "      <td>NaN</td>\n",
       "      <td>NaN</td>\n",
       "      <td>NaN</td>\n",
       "      <td>NaN</td>\n",
       "      <td>NaN</td>\n",
       "      <td>NaN</td>\n",
       "      <td>0.000000</td>\n",
       "      <td>0.000000</td>\n",
       "    </tr>\n",
       "    <tr>\n",
       "      <th>75%</th>\n",
       "      <td>749522.000000</td>\n",
       "      <td>NaN</td>\n",
       "      <td>NaN</td>\n",
       "      <td>NaN</td>\n",
       "      <td>NaN</td>\n",
       "      <td>NaN</td>\n",
       "      <td>NaN</td>\n",
       "      <td>0.000000</td>\n",
       "      <td>1.000000</td>\n",
       "    </tr>\n",
       "    <tr>\n",
       "      <th>max</th>\n",
       "      <td>1000000.000000</td>\n",
       "      <td>NaN</td>\n",
       "      <td>NaN</td>\n",
       "      <td>NaN</td>\n",
       "      <td>NaN</td>\n",
       "      <td>NaN</td>\n",
       "      <td>NaN</td>\n",
       "      <td>1.000000</td>\n",
       "      <td>1.000000</td>\n",
       "    </tr>\n",
       "  </tbody>\n",
       "</table>\n",
       "</div>"
      ],
      "text/plain": [
       "               user_id                 date  source  device browser_language  \\\n",
       "count    453321.000000               453321  453321  453321           453321   \n",
       "unique             NaN                    5       3       2                3   \n",
       "top                NaN  2015-12-04 00:00:00     Ads     Web               ES   \n",
       "freq               NaN               141163  181877  251565           377547   \n",
       "first              NaN  2015-11-30 00:00:00     NaN     NaN              NaN   \n",
       "last               NaN  2015-12-04 00:00:00     NaN     NaN              NaN   \n",
       "mean     499937.514728                  NaN     NaN     NaN              NaN   \n",
       "std      288665.193436                  NaN     NaN     NaN              NaN   \n",
       "min           1.000000                  NaN     NaN     NaN              NaN   \n",
       "25%      249816.000000                  NaN     NaN     NaN              NaN   \n",
       "50%      500019.000000                  NaN     NaN     NaN              NaN   \n",
       "75%      749522.000000                  NaN     NaN     NaN              NaN   \n",
       "max     1000000.000000                  NaN     NaN     NaN              NaN   \n",
       "\n",
       "       ads_channel      browser     conversion           test  \n",
       "count       181877       453321  453321.000000  453321.000000  \n",
       "unique           5            7            NaN            NaN  \n",
       "top       Facebook  Android_App            NaN            NaN  \n",
       "freq         68425       155135            NaN            NaN  \n",
       "first          NaN          NaN            NaN            NaN  \n",
       "last           NaN          NaN            NaN            NaN  \n",
       "mean           NaN          NaN       0.049579       0.476446  \n",
       "std            NaN          NaN       0.217073       0.499445  \n",
       "min            NaN          NaN       0.000000       0.000000  \n",
       "25%            NaN          NaN       0.000000       0.000000  \n",
       "50%            NaN          NaN       0.000000       0.000000  \n",
       "75%            NaN          NaN       0.000000       1.000000  \n",
       "max            NaN          NaN       1.000000       1.000000  "
      ]
     },
     "execution_count": 6,
     "metadata": {},
     "output_type": "execute_result"
    }
   ],
   "source": [
    "# We can see the top ads_channels, browsers, browser_languages etc.\n",
    "test.describe(include = 'all')"
   ]
  },
  {
   "cell_type": "code",
   "execution_count": 7,
   "metadata": {
    "collapsed": false
   },
   "outputs": [
    {
     "name": "stdout",
     "output_type": "stream",
     "text": [
      "(452867, 4)\n",
      "(453321, 9)\n"
     ]
    }
   ],
   "source": [
    "# Size\n",
    "print user.shape\n",
    "print test.shape"
   ]
  },
  {
   "cell_type": "markdown",
   "metadata": {
    "collapsed": true
   },
   "source": [
    "### Check for Null Values"
   ]
  },
  {
   "cell_type": "code",
   "execution_count": 8,
   "metadata": {
    "collapsed": false
   },
   "outputs": [
    {
     "name": "stdout",
     "output_type": "stream",
     "text": [
      "<class 'pandas.core.frame.DataFrame'>\n",
      "RangeIndex: 452867 entries, 0 to 452866\n",
      "Data columns (total 4 columns):\n",
      "user_id    452867 non-null int64\n",
      "sex        452867 non-null object\n",
      "age        452867 non-null int64\n",
      "country    452867 non-null object\n",
      "dtypes: int64(2), object(2)\n",
      "memory usage: 13.8+ MB\n"
     ]
    }
   ],
   "source": [
    "user.info()"
   ]
  },
  {
   "cell_type": "code",
   "execution_count": 9,
   "metadata": {
    "collapsed": false
   },
   "outputs": [
    {
     "name": "stdout",
     "output_type": "stream",
     "text": [
      "<class 'pandas.core.frame.DataFrame'>\n",
      "RangeIndex: 453321 entries, 0 to 453320\n",
      "Data columns (total 9 columns):\n",
      "user_id             453321 non-null int64\n",
      "date                453321 non-null datetime64[ns]\n",
      "source              453321 non-null object\n",
      "device              453321 non-null object\n",
      "browser_language    453321 non-null object\n",
      "ads_channel         181877 non-null object\n",
      "browser             453321 non-null object\n",
      "conversion          453321 non-null int64\n",
      "test                453321 non-null int64\n",
      "dtypes: datetime64[ns](1), int64(3), object(5)\n",
      "memory usage: 31.1+ MB\n"
     ]
    }
   ],
   "source": [
    "test.info()"
   ]
  },
  {
   "cell_type": "markdown",
   "metadata": {},
   "source": [
    "There is missing user_ids for user so when we join it, we will not know about the users traits"
   ]
  },
  {
   "cell_type": "code",
   "execution_count": 10,
   "metadata": {
    "collapsed": false
   },
   "outputs": [
    {
     "data": {
      "image/png": "[encoded data removed]",
      "text/plain": [
       "<matplotlib.figure.Figure at 0x103d7c090>"
      ]
     },
     "metadata": {},
     "output_type": "display_data"
    }
   ],
   "source": [
    "#Distribution of Test and Control\n",
    "_ = sns.factorplot('test', data = test, kind = 'count')"
   ]
  },
  {
   "cell_type": "markdown",
   "metadata": {},
   "source": [
    "It's about the same, so no problems there"
   ]
  },
  {
   "cell_type": "code",
   "execution_count": 11,
   "metadata": {
    "collapsed": true
   },
   "outputs": [],
   "source": [
    "# Let's Join both DataFrame\n",
    "df = pd.merge(user, test, on = 'user_id', how = 'outer')"
   ]
  },
  {
   "cell_type": "code",
   "execution_count": 153,
   "metadata": {
    "collapsed": false,
    "scrolled": true
   },
   "outputs": [
    {
     "data": {
      "image/png": "[encoded data removed]",
      "text/plain": [
       "<matplotlib.figure.Figure at 0x10f564dd0>"
      ]
     },
     "metadata": {},
     "output_type": "display_data"
    },
    {
     "data": {
      "image/png": "[encoded data removed]",
      "text/plain": [
       "<matplotlib.figure.Figure at 0x10f982dd0>"
      ]
     },
     "metadata": {},
     "output_type": "display_data"
    },
    {
     "data": {
      "image/png": "[encoded data removed]",
      "text/plain": [
       "<matplotlib.figure.Figure at 0x11a186550>"
      ]
     },
     "metadata": {},
     "output_type": "display_data"
    },
    {
     "data": {
      "image/png": "[encoded data removed]",
      "text/plain": [
       "<matplotlib.figure.Figure at 0x135752c10>"
      ]
     },
     "metadata": {},
     "output_type": "display_data"
    },
    {
     "data": {
      "image/png": "[encoded data removed]",
      "text/plain": [
       "<matplotlib.figure.Figure at 0x1116d42d0>"
      ]
     },
     "metadata": {},
     "output_type": "display_data"
    },
    {
     "data": {
      "image/png": "[encoded data removed]",
      "text/plain": [
       "<matplotlib.figure.Figure at 0x1359e4f10>"
      ]
     },
     "metadata": {},
     "output_type": "display_data"
    },
    {
     "data": {
      "image/png": "[encoded data removed]",
      "text/plain": [
       "<matplotlib.figure.Figure at 0x1117eb290>"
      ]
     },
     "metadata": {},
     "output_type": "display_data"
    },
    {
     "data": {
      "image/png": "[encoded data removed]",
      "text/plain": [
       "<matplotlib.figure.Figure at 0x1117c5850>"
      ]
     },
     "metadata": {},
     "output_type": "display_data"
    },
    {
     "data": {
      "image/png": "[encoded data removed]",
      "text/plain": [
       "<matplotlib.figure.Figure at 0x134ea0f10>"
      ]
     },
     "metadata": {},
     "output_type": "display_data"
    },
    {
     "data": {
      "image/png": "[encoded data removed]",
      "text/plain": [
       "<matplotlib.figure.Figure at 0x13350b650>"
      ]
     },
     "metadata": {},
     "output_type": "display_data"
    }
   ],
   "source": [
    "# Let's look at each feature's conversion in relation\n",
    "#to whether it's a test or control sample\n",
    "for i in df.columns.difference(['user_id', 'test']):\n",
    "    sns.factorplot(i, data = df, kind = 'count', col = 'test', size = 5, aspect = 1.5)\n",
    "    plt.title(i)"
   ]
  },
  {
   "cell_type": "markdown",
   "metadata": {},
   "source": [
    "# Check Results"
   ]
  },
  {
   "cell_type": "code",
   "execution_count": 28,
   "metadata": {
    "collapsed": false
   },
   "outputs": [
    {
     "data": {
      "text/plain": [
       "0.046795523906408953"
      ]
     },
     "execution_count": 28,
     "metadata": {},
     "output_type": "execute_result"
    }
   ],
   "source": [
    "df[(df.test == 0) & (df.country == i)].conversion.sum()/float(df[(df.test == 0) & (df.country == i)].conversion.count())"
   ]
  },
  {
   "cell_type": "code",
   "execution_count": 83,
   "metadata": {
    "collapsed": true
   },
   "outputs": [],
   "source": [
    "# We Know Spain had No Change\n",
    "data = df[df.country != 'Spain']"
   ]
  },
  {
   "cell_type": "code",
   "execution_count": 178,
   "metadata": {
    "collapsed": false
   },
   "outputs": [
    {
     "name": "stdout",
     "output_type": "stream",
     "text": [
      "Results for the test 0.043424713982118966\n",
      "Results for the control 0.048330423160663091\n"
     ]
    }
   ],
   "source": [
    "test_data = data[data.test == 1].conversion\n",
    "control_data = data[data.test == 0].conversion\n",
    "\n",
    "print 'Results for the test %r'%(test_data.sum()/float(test_data.count()))\n",
    "print 'Results for the control %r'%(control_data.sum()/float(control_data.count()))"
   ]
  },
  {
   "cell_type": "markdown",
   "metadata": {},
   "source": [
    "### Over Time"
   ]
  },
  {
   "cell_type": "code",
   "execution_count": 13,
   "metadata": {
    "collapsed": false
   },
   "outputs": [
    {
     "data": {
      "text/plain": [
       "<matplotlib.text.Text at 0x10e5b17d0>"
      ]
     },
     "execution_count": 13,
     "metadata": {},
     "output_type": "execute_result"
    },
    {
     "data": {
      "image/png": "[encoded data removed]",
      "text/plain": [
       "<matplotlib.figure.Figure at 0x11f75bed0>"
      ]
     },
     "metadata": {},
     "output_type": "display_data"
    }
   ],
   "source": [
    "_ = (df[(df.test == 1) & (df.country != 'Spain')].groupby('date').mean()['conversion']/df[(df.test == 0)& (df.country != 'Spain')].groupby('date').mean()['conversion']).plot()\n",
    "_.figure.set_size_inches(8,4)\n",
    "plt.title('Test Conversion in Relation to Control Conversion')\n",
    "plt.xlabel('Date')\n",
    "_ = plt.ylabel('Test Conversion/Control Conversion')"
   ]
  },
  {
   "cell_type": "markdown",
   "metadata": {},
   "source": [
    "The test has been consistently underperforming the control."
   ]
  },
  {
   "cell_type": "markdown",
   "metadata": {},
   "source": [
    "So when there was a common template we had more conversions, which seems suspicious! <br>\n",
    "Having custom websites for each regions should have a better effect!<br><br>\n",
    "\n",
    "<b>To double check let's see if the results were effected by either:</b>\n",
    "1. Small Sample Size\n",
    "2. Bias in test sample"
   ]
  },
  {
   "cell_type": "markdown",
   "metadata": {},
   "source": [
    "## 1. Small Sample Size"
   ]
  },
  {
   "cell_type": "code",
   "execution_count": 180,
   "metadata": {
    "collapsed": false
   },
   "outputs": [
    {
     "data": {
      "text/plain": [
       "2015-12-04    125033\n",
       "2015-12-03     88204\n",
       "2015-12-01     62911\n",
       "2015-11-30     62903\n",
       "2015-12-02     62488\n",
       "Name: date, dtype: int64"
      ]
     },
     "execution_count": 180,
     "metadata": {},
     "output_type": "execute_result"
    }
   ],
   "source": [
    "data.date.value_counts()"
   ]
  },
  {
   "cell_type": "markdown",
   "metadata": {},
   "source": [
    "So the a/b test ran for 5 days that could mean a small sample size but that's in conclusive "
   ]
  },
  {
   "cell_type": "markdown",
   "metadata": {},
   "source": [
    "## 2. Bias"
   ]
  },
  {
   "cell_type": "markdown",
   "metadata": {},
   "source": [
    "<b>There are many ways to test bias but I'm going to try 2 here:<br></b>\n",
    "a. Train a <u>Model</u> to see if it can predict whether it's the test or control sample<br>\n",
    "(if the sample is unbiased then no features should be predictive)<br>\n",
    "b. <u>T-test</u>: A t-test should reveal whether a feature's effect on conversion is statistically significant"
   ]
  },
  {
   "cell_type": "markdown",
   "metadata": {},
   "source": [
    "### A. Training a Model To Test for Bias\n",
    "### -Automating Detecting Bias"
   ]
  },
  {
   "cell_type": "code",
   "execution_count": 15,
   "metadata": {
    "collapsed": false
   },
   "outputs": [],
   "source": [
    "tree_df = df[df.columns.difference(['conversion'])].copy()\n",
    "tree_df['age'] = tree_df[['age']].fillna(np.mean(tree_df.age))\n",
    "tree_df.fillna('none', inplace= True)"
   ]
  },
  {
   "cell_type": "code",
   "execution_count": 16,
   "metadata": {
    "collapsed": true
   },
   "outputs": [],
   "source": [
    "ads_channel_dums = pd.get_dummies(tree_df.ads_channel, prefix= 'ads')\n",
    "browser_dums = pd.get_dummies(tree_df.browser,prefix= 'browser')\n",
    "browser_language_dums = pd.get_dummies(tree_df.browser_language,prefix= 'browser_language')\n",
    "country_dums = pd.get_dummies(tree_df.country,prefix= 'country')\n",
    "device_dums = pd.get_dummies(tree_df.device,prefix= 'device')\n",
    "sex_dums = pd.get_dummies(tree_df.sex,prefix= 'sex')\n",
    "source_dums = pd.get_dummies(tree_df.source,prefix= 'source')\n",
    "\n",
    "dums_list = [ads_channel_dums, browser_dums,browser_language_dums,country_dums,device_dums,sex_dums,source_dums ]"
   ]
  },
  {
   "cell_type": "code",
   "execution_count": 17,
   "metadata": {
    "collapsed": false
   },
   "outputs": [
    {
     "data": {
      "image/png": "[encoded data removed]",
      "text/plain": [
       "<matplotlib.figure.Figure at 0x10f53ba90>"
      ]
     },
     "metadata": {},
     "output_type": "display_data"
    }
   ],
   "source": [
    "from sklearn.tree import DecisionTreeClassifier\n",
    "\n",
    "X = tree_df[['age']].join(dums_list)\n",
    "y = tree_df['test']\n",
    "tree = DecisionTreeClassifier()\n",
    "tree.fit(X, y)\n",
    "features_significance = pd.DataFrame({'features': X.columns,\\\n",
    "          'importance': tree.feature_importances_}).sort_values('importance', ascending = False).iloc[1:11]\n",
    "_ = sns.barplot(x = 'features', y = 'importance'\n",
    "                  ,data = features_significance, orient = 'v')\n",
    "_.figure.set_size_inches(25,10)"
   ]
  },
  {
   "cell_type": "markdown",
   "metadata": {
    "collapsed": true
   },
   "source": [
    "There are two very predictive features: age and when the Country was Argentina. This could indicate that the sample set isn't random!"
   ]
  },
  {
   "cell_type": "markdown",
   "metadata": {
    "collapsed": true
   },
   "source": [
    "## B. T-Tests"
   ]
  },
  {
   "cell_type": "markdown",
   "metadata": {},
   "source": [
    "Let's test each features and see if it's effect on the control is statistically significant"
   ]
  },
  {
   "cell_type": "markdown",
   "metadata": {},
   "source": [
    "### Checking Countries"
   ]
  },
  {
   "cell_type": "code",
   "execution_count": 181,
   "metadata": {
    "collapsed": false
   },
   "outputs": [
    {
     "name": "stderr",
     "output_type": "stream",
     "text": [
      "/Users/Fernanhid/miniconda/envs/datasci27/lib/python2.7/site-packages/ipykernel/__main__.py:7: UserWarning: Boolean Series key will be reindexed to match DataFrame index.\n",
      "/Users/Fernanhid/miniconda/envs/datasci27/lib/python2.7/site-packages/ipykernel/__main__.py:8: UserWarning: Boolean Series key will be reindexed to match DataFrame index.\n"
     ]
    },
    {
     "data": {
      "text/html": [
       "<div>\n",
       "<table border=\"1\" class=\"dataframe\">\n",
       "  <thead>\n",
       "    <tr style=\"text-align: right;\">\n",
       "      <th></th>\n",
       "      <th>country</th>\n",
       "      <th>p_value</th>\n",
       "      <th>conversion_test</th>\n",
       "      <th>conversion_control</th>\n",
       "    </tr>\n",
       "  </thead>\n",
       "  <tbody>\n",
       "    <tr>\n",
       "      <th>0</th>\n",
       "      <td>Mexico</td>\n",
       "      <td>0.165547</td>\n",
       "      <td>0.051186</td>\n",
       "      <td>0.049495</td>\n",
       "    </tr>\n",
       "    <tr>\n",
       "      <th>1</th>\n",
       "      <td>Colombia</td>\n",
       "      <td>0.423733</td>\n",
       "      <td>0.050571</td>\n",
       "      <td>0.052089</td>\n",
       "    </tr>\n",
       "    <tr>\n",
       "      <th>2</th>\n",
       "      <td>Argentina</td>\n",
       "      <td>0.321766</td>\n",
       "      <td>0.013725</td>\n",
       "      <td>0.015071</td>\n",
       "    </tr>\n",
       "    <tr>\n",
       "      <th>3</th>\n",
       "      <td>Peru</td>\n",
       "      <td>0.771950</td>\n",
       "      <td>0.050604</td>\n",
       "      <td>0.049914</td>\n",
       "    </tr>\n",
       "    <tr>\n",
       "      <th>4</th>\n",
       "      <td>Venezuela</td>\n",
       "      <td>0.573740</td>\n",
       "      <td>0.048978</td>\n",
       "      <td>0.050344</td>\n",
       "    </tr>\n",
       "    <tr>\n",
       "      <th>5</th>\n",
       "      <td>Chile</td>\n",
       "      <td>0.302871</td>\n",
       "      <td>0.051295</td>\n",
       "      <td>0.048107</td>\n",
       "    </tr>\n",
       "    <tr>\n",
       "      <th>6</th>\n",
       "      <td>Ecuador</td>\n",
       "      <td>0.961512</td>\n",
       "      <td>0.048988</td>\n",
       "      <td>0.049154</td>\n",
       "    </tr>\n",
       "    <tr>\n",
       "      <th>7</th>\n",
       "      <td>Guatemala</td>\n",
       "      <td>0.572165</td>\n",
       "      <td>0.048647</td>\n",
       "      <td>0.050643</td>\n",
       "    </tr>\n",
       "    <tr>\n",
       "      <th>8</th>\n",
       "      <td>Bolivia</td>\n",
       "      <td>0.718877</td>\n",
       "      <td>0.047901</td>\n",
       "      <td>0.049369</td>\n",
       "    </tr>\n",
       "    <tr>\n",
       "      <th>9</th>\n",
       "      <td>Honduras</td>\n",
       "      <td>0.471721</td>\n",
       "      <td>0.047540</td>\n",
       "      <td>0.050906</td>\n",
       "    </tr>\n",
       "    <tr>\n",
       "      <th>10</th>\n",
       "      <td>El Salvador</td>\n",
       "      <td>0.248251</td>\n",
       "      <td>0.047947</td>\n",
       "      <td>0.053554</td>\n",
       "    </tr>\n",
       "    <tr>\n",
       "      <th>11</th>\n",
       "      <td>Paraguay</td>\n",
       "      <td>0.883702</td>\n",
       "      <td>0.049229</td>\n",
       "      <td>0.048493</td>\n",
       "    </tr>\n",
       "    <tr>\n",
       "      <th>12</th>\n",
       "      <td>Nicaragua</td>\n",
       "      <td>0.780351</td>\n",
       "      <td>0.054177</td>\n",
       "      <td>0.052647</td>\n",
       "    </tr>\n",
       "    <tr>\n",
       "      <th>13</th>\n",
       "      <td>Costa Rica</td>\n",
       "      <td>0.687863</td>\n",
       "      <td>0.054738</td>\n",
       "      <td>0.052256</td>\n",
       "    </tr>\n",
       "    <tr>\n",
       "      <th>14</th>\n",
       "      <td>Uruguay</td>\n",
       "      <td>0.882812</td>\n",
       "      <td>0.012907</td>\n",
       "      <td>0.012048</td>\n",
       "    </tr>\n",
       "    <tr>\n",
       "      <th>15</th>\n",
       "      <td>Panama</td>\n",
       "      <td>0.705361</td>\n",
       "      <td>0.049370</td>\n",
       "      <td>0.046796</td>\n",
       "    </tr>\n",
       "  </tbody>\n",
       "</table>\n",
       "</div>"
      ],
      "text/plain": [
       "        country   p_value  conversion_test  conversion_control\n",
       "0        Mexico  0.165547         0.051186            0.049495\n",
       "1      Colombia  0.423733         0.050571            0.052089\n",
       "2     Argentina  0.321766         0.013725            0.015071\n",
       "3          Peru  0.771950         0.050604            0.049914\n",
       "4     Venezuela  0.573740         0.048978            0.050344\n",
       "5         Chile  0.302871         0.051295            0.048107\n",
       "6       Ecuador  0.961512         0.048988            0.049154\n",
       "7     Guatemala  0.572165         0.048647            0.050643\n",
       "8       Bolivia  0.718877         0.047901            0.049369\n",
       "9      Honduras  0.471721         0.047540            0.050906\n",
       "10  El Salvador  0.248251         0.047947            0.053554\n",
       "11     Paraguay  0.883702         0.049229            0.048493\n",
       "12    Nicaragua  0.780351         0.054177            0.052647\n",
       "13   Costa Rica  0.687863         0.054738            0.052256\n",
       "14      Uruguay  0.882812         0.012907            0.012048\n",
       "15       Panama  0.705361         0.049370            0.046796"
      ]
     },
     "execution_count": 181,
     "metadata": {},
     "output_type": "execute_result"
    }
   ],
   "source": [
    "country = []\n",
    "conversion_test = []\n",
    "conversion_control = []\n",
    "p_vals = []\n",
    "for i in data.country.value_counts().index:\n",
    "    temp = data[data.country == i]\n",
    "    cat1 = temp[data.test == 1].conversion\n",
    "    cat2 = temp[data.test == 0].conversion\n",
    "    ttest, p =stats.ttest_ind(cat2, cat1)\n",
    "    country.append(i)\n",
    "    conversion_test.append(cat1.sum()/float(len(cat1)))\n",
    "    conversion_control.append(cat2.sum()/float(len(cat2)))\n",
    "\n",
    "    ttest_vals.append(ttest)\n",
    "    p_vals.append(p)\n",
    "    \n",
    "pd.DataFrame({'country': country, \n",
    "              'conversion_test': conversion_test,\n",
    "              'conversion_control': conversion_control,\n",
    "             'p_value': p_vals})\\\n",
    "[['country', 'p_value', 'conversion_test', 'conversion_control']]"
   ]
  },
  {
   "cell_type": "markdown",
   "metadata": {},
   "source": [
    "<b> These p-values in indicate that that we cannot conclude that the difference <br> in dialects had any effect on\n",
    "conversion</b>"
   ]
  },
  {
   "cell_type": "markdown",
   "metadata": {},
   "source": [
    "### Age"
   ]
  },
  {
   "cell_type": "code",
   "execution_count": 175,
   "metadata": {
    "collapsed": false
   },
   "outputs": [
    {
     "name": "stdout",
     "output_type": "stream",
     "text": [
      "t-test independent -1.30262768871\n",
      "0.192702647982\n"
     ]
    }
   ],
   "source": [
    "# They are Very Different!!\n",
    "from scipy import stats\n",
    "import numpy as np\n",
    "\n",
    "t_test_df = data[['age', 'test']].dropna()\n",
    "cat1 = t_test_df[t_test_df.test == 1].age\n",
    "cat2 = t_test_df[t_test_df.test == 0].age\n",
    "\n",
    "ttest, p =stats.ttest_ind(cat1, cat2)\n",
    "print 't-test independent', ttest\n",
    "print p"
   ]
  },
  {
   "cell_type": "markdown",
   "metadata": {},
   "source": [
    "We get the same thing when we deal with age, not significant!\n"
   ]
  },
  {
   "cell_type": "markdown",
   "metadata": {},
   "source": [
    "### Conversion Source"
   ]
  },
  {
   "cell_type": "code",
   "execution_count": 177,
   "metadata": {
    "collapsed": false
   },
   "outputs": [
    {
     "name": "stderr",
     "output_type": "stream",
     "text": [
      "/Users/Fernanhid/miniconda/envs/datasci27/lib/python2.7/site-packages/ipykernel/__main__.py:7: UserWarning: Boolean Series key will be reindexed to match DataFrame index.\n",
      "/Users/Fernanhid/miniconda/envs/datasci27/lib/python2.7/site-packages/ipykernel/__main__.py:8: UserWarning: Boolean Series key will be reindexed to match DataFrame index.\n"
     ]
    },
    {
     "data": {
      "text/html": [
       "<div>\n",
       "<table border=\"1\" class=\"dataframe\">\n",
       "  <thead>\n",
       "    <tr style=\"text-align: right;\">\n",
       "      <th></th>\n",
       "      <th>source</th>\n",
       "      <th>p_value</th>\n",
       "      <th>conversion_test</th>\n",
       "      <th>conversion_control</th>\n",
       "    </tr>\n",
       "  </thead>\n",
       "  <tbody>\n",
       "    <tr>\n",
       "      <th>0</th>\n",
       "      <td>Ads</td>\n",
       "      <td>6.488992e-07</td>\n",
       "      <td>0.043546</td>\n",
       "      <td>0.048754</td>\n",
       "    </tr>\n",
       "    <tr>\n",
       "      <th>1</th>\n",
       "      <td>SEO</td>\n",
       "      <td>4.565763e-04</td>\n",
       "      <td>0.043770</td>\n",
       "      <td>0.047430</td>\n",
       "    </tr>\n",
       "    <tr>\n",
       "      <th>2</th>\n",
       "      <td>Direct</td>\n",
       "      <td>4.382345e-06</td>\n",
       "      <td>0.042489</td>\n",
       "      <td>0.049267</td>\n",
       "    </tr>\n",
       "  </tbody>\n",
       "</table>\n",
       "</div>"
      ],
      "text/plain": [
       "   source       p_value  conversion_test  conversion_control\n",
       "0     Ads  6.488992e-07         0.043546            0.048754\n",
       "1     SEO  4.565763e-04         0.043770            0.047430\n",
       "2  Direct  4.382345e-06         0.042489            0.049267"
      ]
     },
     "execution_count": 177,
     "metadata": {},
     "output_type": "execute_result"
    }
   ],
   "source": [
    "source = []\n",
    "conversion_test = []\n",
    "conversion_control = []\n",
    "p_vals = []\n",
    "for i in data.source.value_counts().index:\n",
    "    temp = data[data.source == i]\n",
    "    cat1 = temp[data.test == 1].conversion\n",
    "    cat2 = temp[data.test == 0].conversion\n",
    "    ttest, p =stats.ttest_ind(cat1, cat2)\n",
    "    source.append(i)\n",
    "    conversion_test.append(cat1.sum()/float(len(cat1)))\n",
    "    conversion_control.append(cat2.sum()/float(len(cat2)))\n",
    "\n",
    "    ttest_vals.append(ttest)\n",
    "    p_vals.append(p)\n",
    "    \n",
    "pd.DataFrame({'source': source, \n",
    "              'conversion_test': conversion_test,\n",
    "              'conversion_control': conversion_control,\n",
    "             'p_value': p_vals})\\\n",
    "[['source', 'p_value', 'conversion_test', 'conversion_control']]"
   ]
  },
  {
   "cell_type": "markdown",
   "metadata": {
    "collapsed": false
   },
   "source": [
    "The test becomes significant when we use other features!"
   ]
  },
  {
   "cell_type": "markdown",
   "metadata": {
    "collapsed": true
   },
   "source": [
    "# Conclusion"
   ]
  },
  {
   "cell_type": "markdown",
   "metadata": {},
   "source": [
    "### <b> Three take aways that we can take from this: </b>"
   ]
  },
  {
   "cell_type": "markdown",
   "metadata": {},
   "source": [
    "<b>1. If the Results Seem Unbelievable, They Probably Are</b> <br>\n",
    "We intuitively know that a custom website for each region would yield better results.<br>\n",
    "So when it didn't, it's important to take extra precautions to make sure that the test was <br>run appropriately,\n",
    "in this case we found that the test sample wasn't indicative of the population.<br>\n",
    "<b>2. By simply looking at feature distributions, we miss the subtley of sample bias</b> <br>\n",
    "When we saw the distribution of features, all the features seemed balanced. There were a little <br>discrepancies in country but aged seemed balanced. If we had not run T-test or the decision tree to prove <br>statistical significance then we would of missed age as the major indicator of a biased data set. <br>When running an A/B test, the quality of the test is just important if not more important than the results. <br>\n",
    "<b>3. We can Automate This Process Using Machine Learning</b> <br>\n",
    "By building a model that can show us if any features can predict whether a user is in the test <br>or control sample, we can automate the process. We can set a threshold for feature significance and let the model <br>tell us automatically if the sample is biased or not! This gives us more time to deal with deeper subjects.<br>\n"
   ]
  }
 ],
 "metadata": {
  "anaconda-cloud": {},
  "kernelspec": {
   "display_name": "Python [conda env:datasci27]",
   "language": "python",
   "name": "conda-env-datasci27-py"
  },
  "language_info": {
   "codemirror_mode": {
    "name": "ipython",
    "version": 2
   },
   "file_extension": ".py",
   "mimetype": "text/x-python",
   "name": "python",
   "nbconvert_exporter": "python",
   "pygments_lexer": "ipython2",
   "version": "2.7.12"
  }
 },
 "nbformat": 4,
 "nbformat_minor": 1
}
